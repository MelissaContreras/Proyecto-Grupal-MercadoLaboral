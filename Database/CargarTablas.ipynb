{
 "cells": [
  {
   "attachments": {},
   "cell_type": "markdown",
   "metadata": {},
   "source": [
    "Cargamos la tablas con los resultados del ETL de los csv de Glassdoor. Como son csv que no se van a modificar ni agregar datos en el futuro no se agregan en el pipeline de airflow, sino que se agregan directamente"
   ]
  },
  {
   "cell_type": "code",
   "execution_count": 2,
   "metadata": {},
   "outputs": [],
   "source": [
    "#importamos libreria pandas para leer los csv y subirlo a cloud sql\n",
    "import pandas as pd"
   ]
  },
  {
   "attachments": {},
   "cell_type": "markdown",
   "metadata": {},
   "source": [
    "Creamos la conexion con la base de datos"
   ]
  },
  {
   "cell_type": "code",
   "execution_count": null,
   "metadata": {},
   "outputs": [],
   "source": [
    "from sqlalchemy import create_engine\n",
    "db_username = 'prueba' #Usuario externo que hemos creado\n",
    "db_password = 'grupo05elmejor' #Contraseña del usuario externo\n",
    "db_ip = '34.151.201.62' #IP externa de la instancia\n",
    "db_name = 'data_proyect'\n",
    "\n",
    "s = 'mysql+mysqlconnector://{0}:{1}@{2}/{3}'.format(db_username, db_password, db_ip, db_name)\n",
    "    \n",
    "engine = create_engine(s)"
   ]
  },
  {
   "attachments": {},
   "cell_type": "markdown",
   "metadata": {},
   "source": [
    "Carga tabla Continente"
   ]
  },
  {
   "cell_type": "code",
   "execution_count": 3,
   "metadata": {},
   "outputs": [],
   "source": [
    "df = pd.read_csv('../Datasets/Datasets_glassdoor_limpio/continentes.csv')\n",
    "df.to_sql(con=engine,name='Continente', index=False, if_exists='append')"
   ]
  },
  {
   "attachments": {},
   "cell_type": "markdown",
   "metadata": {},
   "source": [
    "Carga tabla Empresas_has_PaisesConContinentes"
   ]
  },
  {
   "cell_type": "code",
   "execution_count": null,
   "metadata": {},
   "outputs": [],
   "source": [
    "df = pd.read_csv('../Datasets/Datasets_glassdoor_limpio/empresa_pais.csv')\n",
    "df.to_sql(con=engine,name='Empresas_has_PaisesConContinentes', index=False, if_exists='append')"
   ]
  },
  {
   "attachments": {},
   "cell_type": "markdown",
   "metadata": {},
   "source": [
    "Carga tabla herr_carrera"
   ]
  },
  {
   "cell_type": "code",
   "execution_count": null,
   "metadata": {},
   "outputs": [],
   "source": [
    "df = pd.read_csv('../Datasets/Datasets_glassdoor_limpio/herr_carrera.csv')\n",
    "df.to_sql(con=engine,name='herr_carrera', index=False, if_exists='append')"
   ]
  },
  {
   "attachments": {},
   "cell_type": "markdown",
   "metadata": {},
   "source": [
    "Carga tabla herramienta"
   ]
  },
  {
   "cell_type": "code",
   "execution_count": null,
   "metadata": {},
   "outputs": [],
   "source": [
    "df = pd.read_csv('../Datasets/Datasets_glassdoor_limpio/Herramientas.csv')\n",
    "df.to_sql(con=engine,name='herramienta', index=False, if_exists='append')"
   ]
  },
  {
   "attachments": {},
   "cell_type": "markdown",
   "metadata": {},
   "source": [
    "Carga tabla Modalidad"
   ]
  },
  {
   "cell_type": "code",
   "execution_count": null,
   "metadata": {},
   "outputs": [],
   "source": [
    "df = pd.read_csv('../Datasets/Datasets_glassdoor_limpio/Modalidad.csv')\n",
    "df.to_sql(con=engine,name='Modalidad', index=False, if_exists='append')"
   ]
  },
  {
   "attachments": {},
   "cell_type": "markdown",
   "metadata": {},
   "source": [
    "Carga tabla OfertasLaborales"
   ]
  },
  {
   "cell_type": "code",
   "execution_count": null,
   "metadata": {},
   "outputs": [],
   "source": [
    "df = pd.read_csv('../Datasets/Datasets_glassdoor_limpio/OfertasLaborales.csv')\n",
    "df.to_sql(con=engine,name='OfertasLaborales', index=False, if_exists='append')"
   ]
  },
  {
   "attachments": {},
   "cell_type": "markdown",
   "metadata": {},
   "source": [
    "Carga tabla PlataformasEmpleo"
   ]
  },
  {
   "cell_type": "code",
   "execution_count": null,
   "metadata": {},
   "outputs": [],
   "source": [
    "df = pd.read_csv('../Datasets/Datasets_glassdoor_limpio/PlataformasEmpleo.csv')\n",
    "df.to_sql(con=engine,name='PlataformasEmpleo', index=False, if_exists='append')"
   ]
  },
  {
   "attachments": {},
   "cell_type": "markdown",
   "metadata": {},
   "source": [
    "Carga tabla PuestoTrabajo"
   ]
  },
  {
   "cell_type": "code",
   "execution_count": null,
   "metadata": {},
   "outputs": [],
   "source": [
    "df = pd.read_csv('../Datasets/Datasets_glassdoor_limpio/PuestoTrabajo.csv')\n",
    "df.to_sql(con=engine,name='PuestoTrabajo', index=False, if_exists='append')"
   ]
  },
  {
   "attachments": {},
   "cell_type": "markdown",
   "metadata": {},
   "source": [
    "Carga tabla RatingsEmpresa"
   ]
  },
  {
   "cell_type": "code",
   "execution_count": null,
   "metadata": {},
   "outputs": [],
   "source": [
    "df = pd.read_csv('../Datasets/Datasets_glassdoor_limpio/review_empresa.csv')\n",
    "df.to_sql(con=engine,name='RatingsEmpresa', index=False, if_exists='append')"
   ]
  }
 ],
 "metadata": {
  "kernelspec": {
   "display_name": "Python 3",
   "language": "python",
   "name": "python3"
  },
  "language_info": {
   "codemirror_mode": {
    "name": "ipython",
    "version": 3
   },
   "file_extension": ".py",
   "mimetype": "text/x-python",
   "name": "python",
   "nbconvert_exporter": "python",
   "pygments_lexer": "ipython3",
   "version": "3.10.9"
  },
  "orig_nbformat": 4,
  "vscode": {
   "interpreter": {
    "hash": "e3c6b305e4ca973115645e26aac2b1f9ee333cd2d58276d971963dabd734ca1d"
   }
  }
 },
 "nbformat": 4,
 "nbformat_minor": 2
}
